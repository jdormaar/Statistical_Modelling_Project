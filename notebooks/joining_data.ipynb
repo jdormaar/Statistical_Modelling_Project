{
 "cells": [
  {
   "cell_type": "markdown",
   "metadata": {},
   "source": [
    "Join the data from Part 1 with the data from Part 2 to create a new dataframe."
   ]
  },
  {
   "cell_type": "code",
   "execution_count": 6,
   "metadata": {},
   "outputs": [],
   "source": [
    "import pandas as pd\n",
    "import numpy as np\n",
    "import seaborn as sns\n",
    "import matplotlib.pyplot as plt\n",
    "%matplotlib inline     \n",
    "sns.set(color_codes=True)\n",
    "# import requests\n",
    "# import datetime"
   ]
  },
  {
   "cell_type": "code",
   "execution_count": 10,
   "metadata": {},
   "outputs": [],
   "source": [
    "# Import data from file\n",
    "df_ctybks = pd.read_csv('data/df_citybikes.csv')\n",
    "df_fsq = pd.read_csv('data/df_fsq_all_loci102.csv')\n",
    "# df_yelp = pd.read_csv('data/df_yelp_all_loci102.csv')"
   ]
  },
  {
   "cell_type": "code",
   "execution_count": 18,
   "metadata": {},
   "outputs": [
    {
     "name": "stdout",
     "output_type": "stream",
     "text": [
      "(241, 12)\n",
      "(2410, 15)\n"
     ]
    }
   ],
   "source": [
    "print(df_ctybks.shape)\n",
    "print(df_fsq.shape)"
   ]
  },
  {
   "cell_type": "markdown",
   "metadata": {},
   "source": [
    "Provide a visualization that you used as part of your EDA process. Explain the initial pattern or relationship you discoved through this visualization. "
   ]
  },
  {
   "cell_type": "code",
   "execution_count": 12,
   "metadata": {},
   "outputs": [
    {
     "data": {
      "text/html": [
       "<div>\n",
       "<style scoped>\n",
       "    .dataframe tbody tr th:only-of-type {\n",
       "        vertical-align: middle;\n",
       "    }\n",
       "\n",
       "    .dataframe tbody tr th {\n",
       "        vertical-align: top;\n",
       "    }\n",
       "\n",
       "    .dataframe thead th {\n",
       "        text-align: right;\n",
       "    }\n",
       "</style>\n",
       "<table border=\"1\" class=\"dataframe\">\n",
       "  <thead>\n",
       "    <tr style=\"text-align: right;\">\n",
       "      <th></th>\n",
       "      <th>Unnamed: 0</th>\n",
       "      <th>Station Name</th>\n",
       "      <th>slots</th>\n",
       "      <th>empty_slots</th>\n",
       "      <th>free_bikes</th>\n",
       "      <th>status</th>\n",
       "      <th>bank_card</th>\n",
       "      <th>latitude</th>\n",
       "      <th>longitude</th>\n",
       "      <th>timestamp</th>\n",
       "      <th>Unique ID</th>\n",
       "      <th>lat-long</th>\n",
       "    </tr>\n",
       "  </thead>\n",
       "  <tbody>\n",
       "    <tr>\n",
       "      <th>0</th>\n",
       "      <td>0</td>\n",
       "      <td>0001 10th &amp; Cambie</td>\n",
       "      <td>35</td>\n",
       "      <td>16</td>\n",
       "      <td>19</td>\n",
       "      <td>online</td>\n",
       "      <td>No</td>\n",
       "      <td>49.262487</td>\n",
       "      <td>-123.114397</td>\n",
       "      <td>2022-11-06T07:22:52.004000Z</td>\n",
       "      <td>1</td>\n",
       "      <td>49.262487,-123.114397</td>\n",
       "    </tr>\n",
       "    <tr>\n",
       "      <th>1</th>\n",
       "      <td>1</td>\n",
       "      <td>0004 Yaletown-Roundhouse Station</td>\n",
       "      <td>16</td>\n",
       "      <td>1</td>\n",
       "      <td>15</td>\n",
       "      <td>online</td>\n",
       "      <td>No</td>\n",
       "      <td>49.274566</td>\n",
       "      <td>-123.121817</td>\n",
       "      <td>2022-11-06T07:22:52.006000Z</td>\n",
       "      <td>4</td>\n",
       "      <td>49.274566,-123.121817</td>\n",
       "    </tr>\n",
       "    <tr>\n",
       "      <th>2</th>\n",
       "      <td>2</td>\n",
       "      <td>0005 Dunsmuir &amp; Beatty</td>\n",
       "      <td>26</td>\n",
       "      <td>8</td>\n",
       "      <td>18</td>\n",
       "      <td>online</td>\n",
       "      <td>No</td>\n",
       "      <td>49.279764</td>\n",
       "      <td>-123.110154</td>\n",
       "      <td>2022-11-06T07:22:52.007000Z</td>\n",
       "      <td>5</td>\n",
       "      <td>49.279764,-123.110154</td>\n",
       "    </tr>\n",
       "    <tr>\n",
       "      <th>3</th>\n",
       "      <td>3</td>\n",
       "      <td>0007 12th &amp; Yukon (City Hall)</td>\n",
       "      <td>16</td>\n",
       "      <td>9</td>\n",
       "      <td>7</td>\n",
       "      <td>online</td>\n",
       "      <td>No</td>\n",
       "      <td>49.260599</td>\n",
       "      <td>-123.113504</td>\n",
       "      <td>2022-11-06T07:22:52.008000Z</td>\n",
       "      <td>7</td>\n",
       "      <td>49.260599,-123.113504</td>\n",
       "    </tr>\n",
       "    <tr>\n",
       "      <th>4</th>\n",
       "      <td>4</td>\n",
       "      <td>0008 8th &amp; Ash</td>\n",
       "      <td>16</td>\n",
       "      <td>9</td>\n",
       "      <td>7</td>\n",
       "      <td>online</td>\n",
       "      <td>No</td>\n",
       "      <td>49.264215</td>\n",
       "      <td>-123.117772</td>\n",
       "      <td>2022-11-06T07:22:52.009000Z</td>\n",
       "      <td>8</td>\n",
       "      <td>49.264215,-123.117772</td>\n",
       "    </tr>\n",
       "  </tbody>\n",
       "</table>\n",
       "</div>"
      ],
      "text/plain": [
       "   Unnamed: 0                      Station Name  slots  empty_slots  \\\n",
       "0           0                0001 10th & Cambie     35           16   \n",
       "1           1  0004 Yaletown-Roundhouse Station     16            1   \n",
       "2           2            0005 Dunsmuir & Beatty     26            8   \n",
       "3           3     0007 12th & Yukon (City Hall)     16            9   \n",
       "4           4                    0008 8th & Ash     16            9   \n",
       "\n",
       "   free_bikes  status bank_card   latitude   longitude  \\\n",
       "0          19  online        No  49.262487 -123.114397   \n",
       "1          15  online        No  49.274566 -123.121817   \n",
       "2          18  online        No  49.279764 -123.110154   \n",
       "3           7  online        No  49.260599 -123.113504   \n",
       "4           7  online        No  49.264215 -123.117772   \n",
       "\n",
       "                     timestamp  Unique ID               lat-long  \n",
       "0  2022-11-06T07:22:52.004000Z          1  49.262487,-123.114397  \n",
       "1  2022-11-06T07:22:52.006000Z          4  49.274566,-123.121817  \n",
       "2  2022-11-06T07:22:52.007000Z          5  49.279764,-123.110154  \n",
       "3  2022-11-06T07:22:52.008000Z          7  49.260599,-123.113504  \n",
       "4  2022-11-06T07:22:52.009000Z          8  49.264215,-123.117772  "
      ]
     },
     "execution_count": 12,
     "metadata": {},
     "output_type": "execute_result"
    }
   ],
   "source": [
    "# Create a new column with the coordinate data we need, reformated to str dtype.\n",
    "\n",
    "# Grab just the two columns we need lat and lon\n",
    "df_ctybks.dropna(subset=['latitude', 'longitude'], inplace=True)\n",
    "\n",
    "# Creation of a new variable with lon and lat together, label the column header 'lat-long'\n",
    "df_ctybks['lat-long'] = df_ctybks['latitude'].astype(str) + ',' + df_ctybks['longitude'].astype(str)\n",
    "df_ctybks = df_ctybks[df_ctybks['lat-long'] != '0.0,0.0']\n",
    "df_ctybks.head()"
   ]
  },
  {
   "cell_type": "code",
   "execution_count": 17,
   "metadata": {},
   "outputs": [
    {
     "data": {
      "text/plain": [
       "(2410, 26)"
      ]
     },
     "execution_count": 17,
     "metadata": {},
     "output_type": "execute_result"
    }
   ],
   "source": [
    "df_merged = pd.merge(df_ctybks, df_fsq, how='inner', on='lat-long')\n",
    "df_merged.shape"
   ]
  },
  {
   "cell_type": "code",
   "execution_count": null,
   "metadata": {},
   "outputs": [],
   "source": [
    "# Checking the types of data\n",
    "df = df_merged.copy()\n",
    "df.dtypes"
   ]
  },
  {
   "cell_type": "code",
   "execution_count": null,
   "metadata": {},
   "outputs": [],
   "source": [
    "# WIP -----------------------------------------"
   ]
  },
  {
   "cell_type": "code",
   "execution_count": null,
   "metadata": {},
   "outputs": [],
   "source": [
    "# Dropping irrelevant columns\n",
    "# df = df.drop(['col_a', 'col_b', 'col_c_etc.'], axis=1)\n",
    "\n",
    "# Recheck headings:\n",
    "# df.head(5)"
   ]
  },
  {
   "cell_type": "code",
   "execution_count": null,
   "metadata": {},
   "outputs": [],
   "source": [
    "# Renaming the columns if needed - say if you wanted them \"short and pithy Dr B!\"\n",
    "# df = df.rename(columns = { 'Lengthy_current':'LP', 'doggy_booty_toot':'Lucy_etc.' })\n",
    "# df.head(5)"
   ]
  },
  {
   "cell_type": "code",
   "execution_count": null,
   "metadata": {},
   "outputs": [],
   "source": [
    "# Checking for the presence and location of duplicate rows\n",
    "# duplicate_rows_df = df[df.duplicated()]\n",
    "\n",
    "# And compare the difference in the DF shape:\n",
    "# print(df.shape)\n",
    "# print(\"number of duplicate rows: \", duplicate_rows_df.shape)"
   ]
  },
  {
   "cell_type": "code",
   "execution_count": null,
   "metadata": {},
   "outputs": [],
   "source": [
    "# Assess the location and content of the duplications, are they appropriate?\n",
    "# If not, we can drop them:\n",
    "\n",
    "# First a count of the total rows to compare to #of duplicate rows\n",
    "# df.count()\n",
    "\n",
    "# Then we drop, and recheck:\n",
    "# df = df.drop_duplicates()\n",
    "# df.head(5)"
   ]
  },
  {
   "cell_type": "code",
   "execution_count": null,
   "metadata": {},
   "outputs": [],
   "source": [
    "# Drop any missing or null values:\n",
    "# print(df.isnull().sum())"
   ]
  },
  {
   "cell_type": "code",
   "execution_count": null,
   "metadata": {},
   "outputs": [],
   "source": [
    "# We'll drop the full rows that contain null values:\n",
    "# df = dfdropna()\n",
    "# df.count()"
   ]
  },
  {
   "cell_type": "code",
   "execution_count": null,
   "metadata": {},
   "outputs": [],
   "source": [
    "# Validating the dropped missing values\n",
    "# print(df.isnull().sum())"
   ]
  },
  {
   "cell_type": "code",
   "execution_count": null,
   "metadata": {},
   "outputs": [],
   "source": [
    "# Detecting outliers on numerical values\n",
    "# sns.boxplot(x=df['col_with_numerical_value'])"
   ]
  },
  {
   "cell_type": "markdown",
   "metadata": {},
   "source": [
    "# Database"
   ]
  },
  {
   "cell_type": "markdown",
   "metadata": {},
   "source": [
    "Put all your results in an SQLite3 database (remember, SQLite stores its databases as files in your local machine - make sure to create your database in your project's data/ directory!)"
   ]
  },
  {
   "cell_type": "code",
   "execution_count": null,
   "metadata": {},
   "outputs": [],
   "source": []
  },
  {
   "cell_type": "markdown",
   "metadata": {},
   "source": [
    "Look at the data before and after the join to validate your data."
   ]
  },
  {
   "cell_type": "code",
   "execution_count": null,
   "metadata": {},
   "outputs": [],
   "source": []
  }
 ],
 "metadata": {
  "kernelspec": {
   "display_name": "Python 3.10.6 ('base_env')",
   "language": "python",
   "name": "python3"
  },
  "language_info": {
   "codemirror_mode": {
    "name": "ipython",
    "version": 3
   },
   "file_extension": ".py",
   "mimetype": "text/x-python",
   "name": "python",
   "nbconvert_exporter": "python",
   "pygments_lexer": "ipython3",
   "version": "3.10.6"
  },
  "vscode": {
   "interpreter": {
    "hash": "39512f3c2a1741d7f752d45a133d4514127029333ea14bc2f3c6c5e6759b9029"
   }
  }
 },
 "nbformat": 4,
 "nbformat_minor": 4
}
