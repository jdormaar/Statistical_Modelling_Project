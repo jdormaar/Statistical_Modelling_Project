{
 "cells": [
  {
   "cell_type": "code",
   "execution_count": 61,
   "metadata": {},
   "outputs": [],
   "source": [
    "# imports\n",
    "# import plotly.express as px\n",
    "import pandas as pd\n",
    "import numpy as np\n",
    "# import seaborn as sns                       # visualisation\n",
    "# import matplotlib.pyplot as plt             # visualisation\n",
    "# %matplotlib inline \n",
    "# sns.set(color_codes=True)\n",
    "import requests                            # Might be needed:\n",
    "#import datetime                            # Might be needed\n",
    "import json\n",
    "# import time\n",
    "# from pprint import pprint"
   ]
  },
  {
   "cell_type": "code",
   "execution_count": null,
   "metadata": {},
   "outputs": [],
   "source": [
    "save_num_ll = 102\n",
    "save_num_lat = 102\n",
    "save_num_long = 102\n",
    "save_num_df_fsq = 102\n",
    "save_num_df_yelp = 102"
   ]
  },
  {
   "cell_type": "code",
   "execution_count": 62,
   "metadata": {},
   "outputs": [],
   "source": [
    "#import data from file\n",
    "df = pd.read_csv('data/station_data_sample.csv')\n",
    "ll = pd.read_csv('data/lat_long_series.csv')"
   ]
  },
  {
   "cell_type": "markdown",
   "metadata": {},
   "source": [
    "# Foursquare"
   ]
  },
  {
   "cell_type": "markdown",
   "metadata": {},
   "source": [
    "Send a request to Foursquare with a small radius (1000m) for all the bike stations in your city of choice. "
   ]
  },
  {
   "cell_type": "code",
   "execution_count": 113,
   "metadata": {},
   "outputs": [],
   "source": [
    "#define a function to return a list of dictionaries with information about the requested city\n",
    "\n",
    "\n",
    "import os\n",
    "\n",
    "\n",
    "def station_loci(ll_value):\n",
    "    ''' a function that takes string lat-long as '0.00,-0.00' as it's only argument, \n",
    "    and returns a DataFrame object with the following parameters\n",
    "    '''\n",
    "    api_key = os.environ[\"FOURSQUARE_API_KEY\"]\n",
    "    fields = 'fsq_id,name,location,geocodes,categories,distance,rating,stats,hours,price,popularity'\n",
    "    fsq_data_url = (f'https://api.foursquare.com/v3/places/search?ll={ll_value}&fields={fields}&radius=1000')\n",
    "    headers = {\n",
    "        \"accept\": \"application/json\",\n",
    "        \"Authorization\": api_key\n",
    "    }\n",
    "    fsq_loci_results = requests.get(fsq_data_url, headers=headers).json()\n",
    "\n",
    "    list_of_dict = []\n",
    "    for poi in fsq_loci_results['results']:\n",
    "        categories = poi.get('categories', None)\n",
    "        cat_id = categories[0]['id'] if len(categories) > 0 else None\n",
    "        category_name = categories[0]['name'] if len(categories) > 0 else None\n",
    "\n",
    "        loci_poi_dict = {\n",
    "              'lat-long': f'{ll_value}'\n",
    "            , 'cat_id': cat_id\n",
    "            , 'category_name': category_name\n",
    "            , 'categories': categories\n",
    "            , 'name': poi.get('name', None)\n",
    "            , 'distance': poi.get('distance', None)\n",
    "            , 'latitude': poi.get('geocodes', {}).get('main', {}).get('latitude', None)\n",
    "            , 'longitude': poi.get('geocodes', {}).get('main', {}).get('longitude', None)\n",
    "            , 'address': poi.get('location', {}).get('formatted_address', None)\n",
    "            , 'popularity': poi.get('popularity', None)\n",
    "            , 'price': poi.get('price', None)\n",
    "            , 'open_now': poi.get('hours', {}).get('open_now', None)\n",
    "            , 'rating': poi.get('rating', None)\n",
    "            , 'rating_count': poi.get('stats', {}).get('total_ratings', None)\n",
    "            # , 'address': poi['location']['address']\n",
    "            # , 'country': poi['location']['country']\n",
    "            # , 'cross_street': poi['location']['cross_street']\n",
    "            # , 'locality': poi['location']['locality']\n",
    "            # , 'region': poi['location']['region']\n",
    "            # , 'postcode': poi['location']['postcode']\n",
    "            # , 'timezone': poi['timezone']\n",
    "            # , 'link': poi['link']\n",
    "        }\n",
    "        list_of_dict.append(loci_poi_dict)\n",
    "    return pd.DataFrame(list_of_dict)"
   ]
  },
  {
   "cell_type": "code",
   "execution_count": 119,
   "metadata": {},
   "outputs": [
    {
     "data": {
      "text/html": [
       "<div>\n",
       "<style scoped>\n",
       "    .dataframe tbody tr th:only-of-type {\n",
       "        vertical-align: middle;\n",
       "    }\n",
       "\n",
       "    .dataframe tbody tr th {\n",
       "        vertical-align: top;\n",
       "    }\n",
       "\n",
       "    .dataframe thead th {\n",
       "        text-align: right;\n",
       "    }\n",
       "</style>\n",
       "<table border=\"1\" class=\"dataframe\">\n",
       "  <thead>\n",
       "    <tr style=\"text-align: right;\">\n",
       "      <th></th>\n",
       "      <th>lat-long</th>\n",
       "      <th>cat_id</th>\n",
       "      <th>category_name</th>\n",
       "      <th>categories</th>\n",
       "      <th>name</th>\n",
       "      <th>distance</th>\n",
       "      <th>latitude</th>\n",
       "      <th>longitude</th>\n",
       "      <th>address</th>\n",
       "      <th>popularity</th>\n",
       "      <th>price</th>\n",
       "      <th>open_now</th>\n",
       "      <th>rating</th>\n",
       "      <th>rating_count</th>\n",
       "    </tr>\n",
       "  </thead>\n",
       "  <tbody>\n",
       "    <tr>\n",
       "      <th>0</th>\n",
       "      <td>49.262487,-123.114397</td>\n",
       "      <td>13034</td>\n",
       "      <td>Café</td>\n",
       "      <td>[{'id': 13034, 'name': 'Café', 'icon': {'prefi...</td>\n",
       "      <td>Moii Cafe</td>\n",
       "      <td>57</td>\n",
       "      <td>49.262562</td>\n",
       "      <td>-123.115171</td>\n",
       "      <td>2559 Cambie St (btwn W Broadway &amp; W 10th Ave),...</td>\n",
       "      <td>0.221702</td>\n",
       "      <td>1.0</td>\n",
       "      <td>False</td>\n",
       "      <td>8.0</td>\n",
       "      <td>55</td>\n",
       "    </tr>\n",
       "    <tr>\n",
       "      <th>1</th>\n",
       "      <td>49.262487,-123.114397</td>\n",
       "      <td>13034</td>\n",
       "      <td>Café</td>\n",
       "      <td>[{'id': 13034, 'name': 'Café', 'icon': {'prefi...</td>\n",
       "      <td>Marulilu Cafe</td>\n",
       "      <td>96</td>\n",
       "      <td>49.263364</td>\n",
       "      <td>-123.113942</td>\n",
       "      <td>451W Broadway W (at Cambie St), Vancouver BC V...</td>\n",
       "      <td>0.953849</td>\n",
       "      <td>2.0</td>\n",
       "      <td>False</td>\n",
       "      <td>8.2</td>\n",
       "      <td>111</td>\n",
       "    </tr>\n",
       "  </tbody>\n",
       "</table>\n",
       "</div>"
      ],
      "text/plain": [
       "                lat-long  cat_id category_name  \\\n",
       "0  49.262487,-123.114397   13034          Café   \n",
       "1  49.262487,-123.114397   13034          Café   \n",
       "\n",
       "                                          categories           name  distance  \\\n",
       "0  [{'id': 13034, 'name': 'Café', 'icon': {'prefi...      Moii Cafe        57   \n",
       "1  [{'id': 13034, 'name': 'Café', 'icon': {'prefi...  Marulilu Cafe        96   \n",
       "\n",
       "    latitude   longitude                                            address  \\\n",
       "0  49.262562 -123.115171  2559 Cambie St (btwn W Broadway & W 10th Ave),...   \n",
       "1  49.263364 -123.113942  451W Broadway W (at Cambie St), Vancouver BC V...   \n",
       "\n",
       "   popularity  price  open_now  rating  rating_count  \n",
       "0    0.221702    1.0     False     8.0            55  \n",
       "1    0.953849    2.0     False     8.2           111  "
      ]
     },
     "execution_count": 119,
     "metadata": {},
     "output_type": "execute_result"
    }
   ],
   "source": [
    "test_ll = station_loci('49.262487,-123.114397')\n",
    "test_ll.head(2)"
   ]
  },
  {
   "cell_type": "code",
   "execution_count": 115,
   "metadata": {},
   "outputs": [
    {
     "name": "stdout",
     "output_type": "stream",
     "text": [
      "(241, 11)\n",
      "name          object\n",
      "slots          int64\n",
      "empty          int64\n",
      "available      int64\n",
      "status        object\n",
      "bank_card     object\n",
      "latitude     float64\n",
      "longitude    float64\n",
      "timestamp     object\n",
      "unique_id      int64\n",
      "ll            object\n",
      "dtype: object\n"
     ]
    },
    {
     "data": {
      "text/html": [
       "<div>\n",
       "<style scoped>\n",
       "    .dataframe tbody tr th:only-of-type {\n",
       "        vertical-align: middle;\n",
       "    }\n",
       "\n",
       "    .dataframe tbody tr th {\n",
       "        vertical-align: top;\n",
       "    }\n",
       "\n",
       "    .dataframe thead th {\n",
       "        text-align: right;\n",
       "    }\n",
       "</style>\n",
       "<table border=\"1\" class=\"dataframe\">\n",
       "  <thead>\n",
       "    <tr style=\"text-align: right;\">\n",
       "      <th></th>\n",
       "      <th>name</th>\n",
       "      <th>slots</th>\n",
       "      <th>empty</th>\n",
       "      <th>available</th>\n",
       "      <th>status</th>\n",
       "      <th>bank_card</th>\n",
       "      <th>latitude</th>\n",
       "      <th>longitude</th>\n",
       "      <th>timestamp</th>\n",
       "      <th>unique_id</th>\n",
       "      <th>ll</th>\n",
       "    </tr>\n",
       "  </thead>\n",
       "  <tbody>\n",
       "    <tr>\n",
       "      <th>0</th>\n",
       "      <td>0001 10th &amp; Cambie</td>\n",
       "      <td>35</td>\n",
       "      <td>20</td>\n",
       "      <td>15</td>\n",
       "      <td>online</td>\n",
       "      <td>No</td>\n",
       "      <td>49.262487</td>\n",
       "      <td>-123.114397</td>\n",
       "      <td>2022-11-05T06:56:07.919000Z</td>\n",
       "      <td>1</td>\n",
       "      <td>49.262487,-123.114397</td>\n",
       "    </tr>\n",
       "    <tr>\n",
       "      <th>1</th>\n",
       "      <td>0004 Yaletown-Roundhouse Station</td>\n",
       "      <td>16</td>\n",
       "      <td>1</td>\n",
       "      <td>15</td>\n",
       "      <td>online</td>\n",
       "      <td>No</td>\n",
       "      <td>49.274566</td>\n",
       "      <td>-123.121817</td>\n",
       "      <td>2022-11-05T06:56:07.922000Z</td>\n",
       "      <td>4</td>\n",
       "      <td>49.274566,-123.121817</td>\n",
       "    </tr>\n",
       "    <tr>\n",
       "      <th>2</th>\n",
       "      <td>0005 Dunsmuir &amp; Beatty</td>\n",
       "      <td>26</td>\n",
       "      <td>7</td>\n",
       "      <td>19</td>\n",
       "      <td>online</td>\n",
       "      <td>No</td>\n",
       "      <td>49.279764</td>\n",
       "      <td>-123.110154</td>\n",
       "      <td>2022-11-05T06:56:07.923000Z</td>\n",
       "      <td>5</td>\n",
       "      <td>49.279764,-123.110154</td>\n",
       "    </tr>\n",
       "    <tr>\n",
       "      <th>3</th>\n",
       "      <td>0007 12th &amp; Yukon (City Hall)</td>\n",
       "      <td>16</td>\n",
       "      <td>8</td>\n",
       "      <td>8</td>\n",
       "      <td>online</td>\n",
       "      <td>No</td>\n",
       "      <td>49.260599</td>\n",
       "      <td>-123.113504</td>\n",
       "      <td>2022-11-05T06:56:07.924000Z</td>\n",
       "      <td>7</td>\n",
       "      <td>49.260599,-123.113504</td>\n",
       "    </tr>\n",
       "    <tr>\n",
       "      <th>4</th>\n",
       "      <td>0008 8th &amp; Ash</td>\n",
       "      <td>16</td>\n",
       "      <td>13</td>\n",
       "      <td>3</td>\n",
       "      <td>online</td>\n",
       "      <td>No</td>\n",
       "      <td>49.264215</td>\n",
       "      <td>-123.117772</td>\n",
       "      <td>2022-11-05T06:56:07.925000Z</td>\n",
       "      <td>8</td>\n",
       "      <td>49.264215,-123.117772</td>\n",
       "    </tr>\n",
       "  </tbody>\n",
       "</table>\n",
       "</div>"
      ],
      "text/plain": [
       "                               name  slots  empty  available  status  \\\n",
       "0                0001 10th & Cambie     35     20         15  online   \n",
       "1  0004 Yaletown-Roundhouse Station     16      1         15  online   \n",
       "2            0005 Dunsmuir & Beatty     26      7         19  online   \n",
       "3     0007 12th & Yukon (City Hall)     16      8          8  online   \n",
       "4                    0008 8th & Ash     16     13          3  online   \n",
       "\n",
       "  bank_card   latitude   longitude                    timestamp  unique_id  \\\n",
       "0        No  49.262487 -123.114397  2022-11-05T06:56:07.919000Z          1   \n",
       "1        No  49.274566 -123.121817  2022-11-05T06:56:07.922000Z          4   \n",
       "2        No  49.279764 -123.110154  2022-11-05T06:56:07.923000Z          5   \n",
       "3        No  49.260599 -123.113504  2022-11-05T06:56:07.924000Z          7   \n",
       "4        No  49.264215 -123.117772  2022-11-05T06:56:07.925000Z          8   \n",
       "\n",
       "                      ll  \n",
       "0  49.262487,-123.114397  \n",
       "1  49.274566,-123.121817  \n",
       "2  49.279764,-123.110154  \n",
       "3  49.260599,-123.113504  \n",
       "4  49.264215,-123.117772  "
      ]
     },
     "execution_count": 115,
     "metadata": {},
     "output_type": "execute_result"
    }
   ],
   "source": [
    "# create a new column with the coordinate data we need, reformated to str dtype.\n",
    "\n",
    "#grab just the two columns we need lat and lon\n",
    "df.dropna(subset=['latitude', 'longitude'], inplace=True)\n",
    "\n",
    "# creation of a new variable with lon and lat together, label the column header 'll'\n",
    "df['ll'] = df['latitude'].astype(str) + ',' + df['longitude'].astype(str)\n",
    "df = df[df['ll'] != '0.0,0.0']\n",
    "print(df.shape)\n",
    "print(df.dtypes)\n",
    "df.head()\n",
    "\n",
    "# reference #from Data wrangling exercise"
   ]
  },
  {
   "cell_type": "code",
   "execution_count": 116,
   "metadata": {},
   "outputs": [
    {
     "data": {
      "text/plain": [
       "0    49.262487,-123.114397\n",
       "1    49.274566,-123.121817\n",
       "2    49.279764,-123.110154\n",
       "3    49.260599,-123.113504\n",
       "4    49.264215,-123.117772\n",
       "Name: ll, dtype: object"
      ]
     },
     "execution_count": 116,
     "metadata": {},
     "output_type": "execute_result"
    }
   ],
   "source": [
    "# create a series of ll, confirm format for api url\n",
    "ll = df['ll']\n",
    "ll.head(5)"
   ]
  },
  {
   "cell_type": "code",
   "execution_count": 117,
   "metadata": {},
   "outputs": [],
   "source": [
    "# populate an empty list with the pd.df objects from each ll location:\n",
    "df_list = []\n",
    "for loci in ll:\n",
    "    next = station_loci(loci)\n",
    "    df_list.append(next)"
   ]
  },
  {
   "cell_type": "code",
   "execution_count": 118,
   "metadata": {},
   "outputs": [],
   "source": [
    "# refresh df objects to avoid duplication\n",
    "df_fsq = pd.DataFrame()\n",
    "x = pd.DataFrame()\n",
    "\n",
    "# generate full df object with all locations through concatenation \n",
    "for df_loci in df_list:\n",
    "    x = pd.concat([df_fsq, df_loci])\n",
    "    df_fsq = x"
   ]
  },
  {
   "cell_type": "code",
   "execution_count": 120,
   "metadata": {},
   "outputs": [
    {
     "data": {
      "text/plain": [
       "(2410, 14)"
      ]
     },
     "execution_count": 120,
     "metadata": {},
     "output_type": "execute_result"
    }
   ],
   "source": [
    "#confirm success:\n",
    "df_fsq.shape"
   ]
  },
  {
   "cell_type": "code",
   "execution_count": 122,
   "metadata": {},
   "outputs": [],
   "source": [
    "#save the new df:\n",
    "df_fsq.to_csv(f'data/df_fsq_all_loci{save_num_df_fsq}.csv', index=False)\n",
    "save_num_df_fsq += 1"
   ]
  },
  {
   "cell_type": "code",
   "execution_count": null,
   "metadata": {},
   "outputs": [],
   "source": [
    "df_fsq.head(20)"
   ]
  },
  {
   "cell_type": "markdown",
   "metadata": {},
   "source": [
    "Parse through the response to get the POI (such as restaurants, bars, etc) details you want (ratings, name, location, etc)"
   ]
  },
  {
   "cell_type": "code",
   "execution_count": null,
   "metadata": {},
   "outputs": [],
   "source": []
  },
  {
   "cell_type": "markdown",
   "metadata": {},
   "source": [
    "Put your parsed results into a DataFrame"
   ]
  },
  {
   "cell_type": "code",
   "execution_count": null,
   "metadata": {},
   "outputs": [],
   "source": []
  },
  {
   "cell_type": "markdown",
   "metadata": {},
   "source": [
    "# Yelp"
   ]
  },
  {
   "cell_type": "markdown",
   "metadata": {},
   "source": [
    "Send a request to Yelp with a small radius (1000m) for all the bike stations in your city of choice. "
   ]
  },
  {
   "cell_type": "code",
   "execution_count": 128,
   "metadata": {},
   "outputs": [],
   "source": [
    "#define a function to return a list of dictionaries with information about the requested city\n",
    "\n",
    "import requests\n",
    "import os\n",
    "\n",
    "\n",
    "def station_loci(lat, long):\n",
    "    ''' a function that takes string lat and long as '0.00', and '-0.00' as it's arguments, \n",
    "    and returns a DataFrame object with the following parameters\n",
    "    '''\n",
    "    api_key = os.environ[\"YELP_API_KEY\"]\n",
    "    yelp_data_url = (f'https://api.yelp.com/v3/businesses/search?latitude={lat}&longitude={long}&radius=1000')\n",
    "    payload={}\n",
    "    headers = {\n",
    "        'accept': 'application/json',             #Incorporate headers and API key\n",
    "        'Authorization': f'Bearer {api_key}'\n",
    "    }\n",
    "    yelp_loci_results = requests.get(yelp_data_url, headers=headers, data=payload).json()           #Perform get request\n",
    "\n",
    "    list_of_dict = []\n",
    "    for poi in yelp_loci_results[\"businesses\"]:\n",
    "        loci_poi_dict = {\n",
    "              'lat-long': f'{lat}, {long}'\n",
    "            , 'category_name': poi['categories'][0]['alias']\n",
    "            , 'categories': poi['categories']\n",
    "            , 'name': poi['name']\n",
    "            , 'distance': poi['distance']\n",
    "            , 'latitude': poi['coordinates']['latitude']\n",
    "            , 'longitude': poi['coordinates']['longitude']\n",
    "            , 'address': poi['location']['display_address']\n",
    "            , 'price': poi.get('price', None)\n",
    "            , 'is_closed': poi.get('is_closed')\n",
    "            # , 'display_phone': poi.get('location']['display_phone')\n",
    "            , 'rating': poi.get('rating')\n",
    "            , 'rating_count': poi.get('review_count')\n",
    "            # , 'address1': poi['location']['address1']\n",
    "            # , 'country': poi['location']['country']\n",
    "            # , 'city': poi['location']['city']\n",
    "            # , 'state': poi['location']['state']\n",
    "            # , 'zip_code': poi['location']['zip_code']\n",
    "        }\n",
    "        list_of_dict.append(loci_poi_dict)\n",
    "    return pd.DataFrame(list_of_dict)"
   ]
  },
  {
   "cell_type": "code",
   "execution_count": 125,
   "metadata": {},
   "outputs": [
    {
     "data": {
      "text/html": [
       "<div>\n",
       "<style scoped>\n",
       "    .dataframe tbody tr th:only-of-type {\n",
       "        vertical-align: middle;\n",
       "    }\n",
       "\n",
       "    .dataframe tbody tr th {\n",
       "        vertical-align: top;\n",
       "    }\n",
       "\n",
       "    .dataframe thead th {\n",
       "        text-align: right;\n",
       "    }\n",
       "</style>\n",
       "<table border=\"1\" class=\"dataframe\">\n",
       "  <thead>\n",
       "    <tr style=\"text-align: right;\">\n",
       "      <th></th>\n",
       "      <th>lat-long</th>\n",
       "      <th>category_name</th>\n",
       "      <th>categories</th>\n",
       "      <th>name</th>\n",
       "      <th>distance</th>\n",
       "      <th>latitude</th>\n",
       "      <th>longitude</th>\n",
       "      <th>address</th>\n",
       "      <th>price</th>\n",
       "      <th>is_closed</th>\n",
       "      <th>rating</th>\n",
       "      <th>rating_count</th>\n",
       "    </tr>\n",
       "  </thead>\n",
       "  <tbody>\n",
       "    <tr>\n",
       "      <th>0</th>\n",
       "      <td>49.262487, -123.114397</td>\n",
       "      <td>mexican</td>\n",
       "      <td>[{'alias': 'mexican', 'title': 'Mexican'}]</td>\n",
       "      <td>La Taqueria Pinche Taco Shop</td>\n",
       "      <td>169.517456</td>\n",
       "      <td>49.263559</td>\n",
       "      <td>-123.112736</td>\n",
       "      <td>[2450 Yukon Street, Vancouver, BC V5Z 3V6, Can...</td>\n",
       "      <td>$$</td>\n",
       "      <td>False</td>\n",
       "      <td>4.0</td>\n",
       "      <td>667</td>\n",
       "    </tr>\n",
       "    <tr>\n",
       "      <th>1</th>\n",
       "      <td>49.262487, -123.114397</td>\n",
       "      <td>chinese</td>\n",
       "      <td>[{'alias': 'chinese', 'title': 'Chinese'}, {'a...</td>\n",
       "      <td>Peaceful Restaurant</td>\n",
       "      <td>146.418009</td>\n",
       "      <td>49.263147</td>\n",
       "      <td>-123.116143</td>\n",
       "      <td>[110-532 W Broadway, Vancouver, BC V5Z 1E9, Ca...</td>\n",
       "      <td>$$</td>\n",
       "      <td>False</td>\n",
       "      <td>3.5</td>\n",
       "      <td>610</td>\n",
       "    </tr>\n",
       "  </tbody>\n",
       "</table>\n",
       "</div>"
      ],
      "text/plain": [
       "                 lat-long category_name  \\\n",
       "0  49.262487, -123.114397       mexican   \n",
       "1  49.262487, -123.114397       chinese   \n",
       "\n",
       "                                          categories  \\\n",
       "0         [{'alias': 'mexican', 'title': 'Mexican'}]   \n",
       "1  [{'alias': 'chinese', 'title': 'Chinese'}, {'a...   \n",
       "\n",
       "                           name    distance   latitude   longitude  \\\n",
       "0  La Taqueria Pinche Taco Shop  169.517456  49.263559 -123.112736   \n",
       "1           Peaceful Restaurant  146.418009  49.263147 -123.116143   \n",
       "\n",
       "                                             address price  is_closed  rating  \\\n",
       "0  [2450 Yukon Street, Vancouver, BC V5Z 3V6, Can...    $$      False     4.0   \n",
       "1  [110-532 W Broadway, Vancouver, BC V5Z 1E9, Ca...    $$      False     3.5   \n",
       "\n",
       "   rating_count  \n",
       "0           667  \n",
       "1           610  "
      ]
     },
     "execution_count": 125,
     "metadata": {},
     "output_type": "execute_result"
    }
   ],
   "source": [
    "# a test run of the function\n",
    "yelp_test_ll = station_loci('49.262487','-123.114397')\n",
    "yelp_test_ll.head(2)"
   ]
  },
  {
   "cell_type": "code",
   "execution_count": 126,
   "metadata": {},
   "outputs": [
    {
     "name": "stdout",
     "output_type": "stream",
     "text": [
      "0    49.262487\n",
      "1    49.274566\n",
      "2    49.279764\n",
      "3    49.260599\n",
      "4    49.264215\n",
      "Name: latitude, dtype: float64\n",
      "0   -123.114397\n",
      "1   -123.121817\n",
      "2   -123.110154\n",
      "3   -123.113504\n",
      "4   -123.117772\n",
      "Name: longitude, dtype: float64\n"
     ]
    }
   ],
   "source": [
    "#to run location queries, we'll need the lat and log values for each station to be accessable:\n",
    "\n",
    "# create a series of latitude:\n",
    "lat = df['latitude']\n",
    "print(lat.head(5))\n",
    "# create a series of longitude:\n",
    "long = df['longitude']\n",
    "print(long.head(5))\n",
    "type(long)\n",
    "\n",
    "# Save the new series\n",
    "lat.to_csv(f'data/lat_series{save_num_lat}.csv', index=False)\n",
    "long.to_csv(f'data/long_series{save_num_long}.csv', index=False)\n",
    "save_num_lat += 1\n",
    "save_num_long += 1"
   ]
  },
  {
   "cell_type": "code",
   "execution_count": 129,
   "metadata": {},
   "outputs": [],
   "source": [
    "# create a while loop to run the series lat and long through the yelp api function\n",
    "# This will generate a list of 241 df; one for each of the citybike.s stations\n",
    "\n",
    "num_rows = df.shape[0]\n",
    "row_counter = 0\n",
    "yelp_df_list = []\n",
    "while row_counter < num_rows:\n",
    "    next = station_loci(lat[row_counter], long[row_counter])\n",
    "    yelp_df_list.append(next)\n",
    "    row_counter += 1"
   ]
  },
  {
   "cell_type": "code",
   "execution_count": 130,
   "metadata": {},
   "outputs": [],
   "source": [
    "# refresh df objects to avoid duplication\n",
    "df_yelp = pd.DataFrame()\n",
    "x = pd.DataFrame()\n",
    "\n",
    "# generate full df object with all locations through concatenation \n",
    "for df_loci in yelp_df_list:\n",
    "    x = pd.concat([df_yelp, df_loci])\n",
    "    df_yelp = x"
   ]
  },
  {
   "cell_type": "markdown",
   "metadata": {},
   "source": [
    "Parse through the response to get the POI (such as restaurants, bars, etc) details you want (ratings, name, location, etc)"
   ]
  },
  {
   "cell_type": "code",
   "execution_count": 131,
   "metadata": {},
   "outputs": [
    {
     "name": "stdout",
     "output_type": "stream",
     "text": [
      "(4788, 12)\n"
     ]
    }
   ],
   "source": [
    "#confirm success:\n",
    "print(df_yelp.shape)\n",
    "# df_yelp.head(50)"
   ]
  },
  {
   "cell_type": "code",
   "execution_count": 133,
   "metadata": {},
   "outputs": [],
   "source": [
    "# save new df\n",
    "df_yelp.to_csv(f'data/df_yelp_all_loci{save_num_df_yelp}.csv', index=False)\n",
    "save_num_df_yelp += 1"
   ]
  },
  {
   "cell_type": "markdown",
   "metadata": {},
   "source": [
    "Put your parsed results into a DataFrame"
   ]
  },
  {
   "cell_type": "markdown",
   "metadata": {},
   "source": []
  },
  {
   "cell_type": "markdown",
   "metadata": {},
   "source": [
    "# Comparing Results"
   ]
  },
  {
   "cell_type": "markdown",
   "metadata": {},
   "source": [
    "Which API provided you with more complete data? Provide an explanation. "
   ]
  },
  {
   "cell_type": "markdown",
   "metadata": {},
   "source": []
  },
  {
   "cell_type": "markdown",
   "metadata": {},
   "source": [
    "Get the top 10 restaurants according to their rating"
   ]
  },
  {
   "cell_type": "code",
   "execution_count": null,
   "metadata": {},
   "outputs": [
    {
     "data": {
      "text/html": [
       "<div>\n",
       "<style scoped>\n",
       "    .dataframe tbody tr th:only-of-type {\n",
       "        vertical-align: middle;\n",
       "    }\n",
       "\n",
       "    .dataframe tbody tr th {\n",
       "        vertical-align: top;\n",
       "    }\n",
       "\n",
       "    .dataframe thead th {\n",
       "        text-align: right;\n",
       "    }\n",
       "</style>\n",
       "<table border=\"1\" class=\"dataframe\">\n",
       "  <thead>\n",
       "    <tr style=\"text-align: right;\">\n",
       "      <th></th>\n",
       "      <th>lat-long</th>\n",
       "      <th>category_name</th>\n",
       "      <th>name</th>\n",
       "      <th>distance</th>\n",
       "      <th>latitude</th>\n",
       "      <th>longitude</th>\n",
       "      <th>address</th>\n",
       "      <th>is_closed</th>\n",
       "      <th>review_count</th>\n",
       "      <th>rating</th>\n",
       "    </tr>\n",
       "  </thead>\n",
       "  <tbody>\n",
       "    <tr>\n",
       "      <th>18</th>\n",
       "      <td>49.27033, -123.10275</td>\n",
       "      <td>Street Vendors</td>\n",
       "      <td>Johnny's Pops</td>\n",
       "      <td>1052.246707</td>\n",
       "      <td>49.277771</td>\n",
       "      <td>-123.090302</td>\n",
       "      <td>[Vancouver, BC V6A, Canada]</td>\n",
       "      <td>False</td>\n",
       "      <td>82</td>\n",
       "      <td>5.0</td>\n",
       "    </tr>\n",
       "    <tr>\n",
       "      <th>2</th>\n",
       "      <td>49.277469, -123.081315</td>\n",
       "      <td>Street Vendors</td>\n",
       "      <td>Johnny's Pops</td>\n",
       "      <td>901.446270</td>\n",
       "      <td>49.277771</td>\n",
       "      <td>-123.090302</td>\n",
       "      <td>[Vancouver, BC V6A, Canada]</td>\n",
       "      <td>False</td>\n",
       "      <td>82</td>\n",
       "      <td>5.0</td>\n",
       "    </tr>\n",
       "    <tr>\n",
       "      <th>2</th>\n",
       "      <td>49.279369, -123.091241</td>\n",
       "      <td>Street Vendors</td>\n",
       "      <td>Johnny's Pops</td>\n",
       "      <td>255.755370</td>\n",
       "      <td>49.277771</td>\n",
       "      <td>-123.090302</td>\n",
       "      <td>[Vancouver, BC V6A, Canada]</td>\n",
       "      <td>False</td>\n",
       "      <td>82</td>\n",
       "      <td>5.0</td>\n",
       "    </tr>\n",
       "    <tr>\n",
       "      <th>15</th>\n",
       "      <td>49.283992, -123.091206</td>\n",
       "      <td>Street Vendors</td>\n",
       "      <td>Johnny's Pops</td>\n",
       "      <td>718.673135</td>\n",
       "      <td>49.277771</td>\n",
       "      <td>-123.090302</td>\n",
       "      <td>[Vancouver, BC V6A, Canada]</td>\n",
       "      <td>False</td>\n",
       "      <td>82</td>\n",
       "      <td>5.0</td>\n",
       "    </tr>\n",
       "    <tr>\n",
       "      <th>3</th>\n",
       "      <td>49.273777, -123.092723</td>\n",
       "      <td>Street Vendors</td>\n",
       "      <td>Johnny's Pops</td>\n",
       "      <td>447.037606</td>\n",
       "      <td>49.277771</td>\n",
       "      <td>-123.090302</td>\n",
       "      <td>[Vancouver, BC V6A, Canada]</td>\n",
       "      <td>False</td>\n",
       "      <td>82</td>\n",
       "      <td>5.0</td>\n",
       "    </tr>\n",
       "    <tr>\n",
       "      <th>3</th>\n",
       "      <td>49.277595, -123.09583</td>\n",
       "      <td>Street Vendors</td>\n",
       "      <td>Johnny's Pops</td>\n",
       "      <td>152.913685</td>\n",
       "      <td>49.277771</td>\n",
       "      <td>-123.090302</td>\n",
       "      <td>[Vancouver, BC V6A, Canada]</td>\n",
       "      <td>False</td>\n",
       "      <td>82</td>\n",
       "      <td>5.0</td>\n",
       "    </tr>\n",
       "    <tr>\n",
       "      <th>2</th>\n",
       "      <td>49.279235, -123.087528</td>\n",
       "      <td>Street Vendors</td>\n",
       "      <td>Johnny's Pops</td>\n",
       "      <td>479.817198</td>\n",
       "      <td>49.277771</td>\n",
       "      <td>-123.090302</td>\n",
       "      <td>[Vancouver, BC V6A, Canada]</td>\n",
       "      <td>False</td>\n",
       "      <td>82</td>\n",
       "      <td>5.0</td>\n",
       "    </tr>\n",
       "    <tr>\n",
       "      <th>2</th>\n",
       "      <td>49.277333, -123.087359</td>\n",
       "      <td>Street Vendors</td>\n",
       "      <td>Johnny's Pops</td>\n",
       "      <td>464.722795</td>\n",
       "      <td>49.277771</td>\n",
       "      <td>-123.090302</td>\n",
       "      <td>[Vancouver, BC V6A, Canada]</td>\n",
       "      <td>False</td>\n",
       "      <td>82</td>\n",
       "      <td>5.0</td>\n",
       "    </tr>\n",
       "    <tr>\n",
       "      <th>1</th>\n",
       "      <td>49.277615, -123.091654</td>\n",
       "      <td>Street Vendors</td>\n",
       "      <td>Johnny's Pops</td>\n",
       "      <td>151.578373</td>\n",
       "      <td>49.277771</td>\n",
       "      <td>-123.090302</td>\n",
       "      <td>[Vancouver, BC V6A, Canada]</td>\n",
       "      <td>False</td>\n",
       "      <td>82</td>\n",
       "      <td>5.0</td>\n",
       "    </tr>\n",
       "    <tr>\n",
       "      <th>3</th>\n",
       "      <td>49.280852, -123.084746</td>\n",
       "      <td>Street Vendors</td>\n",
       "      <td>Johnny's Pops</td>\n",
       "      <td>738.004461</td>\n",
       "      <td>49.277771</td>\n",
       "      <td>-123.090302</td>\n",
       "      <td>[Vancouver, BC V6A, Canada]</td>\n",
       "      <td>False</td>\n",
       "      <td>82</td>\n",
       "      <td>5.0</td>\n",
       "    </tr>\n",
       "  </tbody>\n",
       "</table>\n",
       "</div>"
      ],
      "text/plain": [
       "                  lat-long   category_name           name     distance  \\\n",
       "18    49.27033, -123.10275  Street Vendors  Johnny's Pops  1052.246707   \n",
       "2   49.277469, -123.081315  Street Vendors  Johnny's Pops   901.446270   \n",
       "2   49.279369, -123.091241  Street Vendors  Johnny's Pops   255.755370   \n",
       "15  49.283992, -123.091206  Street Vendors  Johnny's Pops   718.673135   \n",
       "3   49.273777, -123.092723  Street Vendors  Johnny's Pops   447.037606   \n",
       "3    49.277595, -123.09583  Street Vendors  Johnny's Pops   152.913685   \n",
       "2   49.279235, -123.087528  Street Vendors  Johnny's Pops   479.817198   \n",
       "2   49.277333, -123.087359  Street Vendors  Johnny's Pops   464.722795   \n",
       "1   49.277615, -123.091654  Street Vendors  Johnny's Pops   151.578373   \n",
       "3   49.280852, -123.084746  Street Vendors  Johnny's Pops   738.004461   \n",
       "\n",
       "     latitude   longitude                      address  is_closed  \\\n",
       "18  49.277771 -123.090302  [Vancouver, BC V6A, Canada]      False   \n",
       "2   49.277771 -123.090302  [Vancouver, BC V6A, Canada]      False   \n",
       "2   49.277771 -123.090302  [Vancouver, BC V6A, Canada]      False   \n",
       "15  49.277771 -123.090302  [Vancouver, BC V6A, Canada]      False   \n",
       "3   49.277771 -123.090302  [Vancouver, BC V6A, Canada]      False   \n",
       "3   49.277771 -123.090302  [Vancouver, BC V6A, Canada]      False   \n",
       "2   49.277771 -123.090302  [Vancouver, BC V6A, Canada]      False   \n",
       "2   49.277771 -123.090302  [Vancouver, BC V6A, Canada]      False   \n",
       "1   49.277771 -123.090302  [Vancouver, BC V6A, Canada]      False   \n",
       "3   49.277771 -123.090302  [Vancouver, BC V6A, Canada]      False   \n",
       "\n",
       "    review_count  rating  \n",
       "18            82     5.0  \n",
       "2             82     5.0  \n",
       "2             82     5.0  \n",
       "15            82     5.0  \n",
       "3             82     5.0  \n",
       "3             82     5.0  \n",
       "2             82     5.0  \n",
       "2             82     5.0  \n",
       "1             82     5.0  \n",
       "3             82     5.0  "
      ]
     },
     "execution_count": 59,
     "metadata": {},
     "output_type": "execute_result"
    }
   ],
   "source": [
    "df_yelp.sort_values(by = ['rating', 'category_name'], ascending = False).head(10)"
   ]
  }
 ],
 "metadata": {
  "kernelspec": {
   "display_name": "Python 3.10.6 ('base_env')",
   "language": "python",
   "name": "python3"
  },
  "language_info": {
   "codemirror_mode": {
    "name": "ipython",
    "version": 3
   },
   "file_extension": ".py",
   "mimetype": "text/x-python",
   "name": "python",
   "nbconvert_exporter": "python",
   "pygments_lexer": "ipython3",
   "version": "3.10.6"
  },
  "vscode": {
   "interpreter": {
    "hash": "39512f3c2a1741d7f752d45a133d4514127029333ea14bc2f3c6c5e6759b9029"
   }
  }
 },
 "nbformat": 4,
 "nbformat_minor": 4
}
