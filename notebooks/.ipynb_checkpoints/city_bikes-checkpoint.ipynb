{
 "cells": [
  {
   "cell_type": "markdown",
   "metadata": {},
   "source": [
    "# CityBikes"
   ]
  },
  {
   "cell_type": "markdown",
   "metadata": {},
   "source": [
    "Send a request to CityBikes for the city of your choice. "
   ]
  },
  {
   "cell_type": "code",
   "execution_count": 6,
   "metadata": {},
   "outputs": [],
   "source": [
    "import plotly.express as px\n",
    "import pandas as pd\n",
    "import numpy as np\n",
    "import requests\n",
    "import json\n",
    "\n",
    "#define a function to return a list of dictionaries with information about the requested city\n",
    "def citybikes_locations(city):\n",
    "    citybike_networks = requests.get(\"https://api.citybik.es/v2/networks\").json()\n",
    "    list_of_dict = []\n",
    "    for citybike_dict in citybike_networks['networks']:\n",
    "        new_city = citybike_dict['location']['city']\n",
    "        if new_city.lower() == city.lower():\n",
    "            list_of_dict.append(citybike_dict)\n",
    "    return list_of_dict\n",
    "\n",
    "#define a function to return a list of dictionaries about the city's stations\n",
    "def city_stations(city):\n",
    "    station_dict = citybikes_locations(city)\n",
    "    if not station_dict:\n",
    "        print('Error: No info found for {}'.format(city))\n",
    "        return None\n",
    "    network_address = station_dict[0]['href']\n",
    "    url = \"https://api.citybik.es/{}\".format(network_address)\n",
    "    return requests.get(url).json()['network']['stations']\n",
    "\n",
    "#define a function that will return a pd.df about the stations for input city\n",
    "def station_data(city):\n",
    "    station_info = city_stations(city)\n",
    "    station_list = []\n",
    "    for info in station_info:\n",
    "        station_details = {\n",
    "              'Station Name': info['name']\n",
    "            , 'slots': info['extra']['slots']\n",
    "            , 'empty_slots': info['empty_slots']\n",
    "            , 'free_bikes': info['free_bikes']\n",
    "            , 'status': info['extra']['status']\n",
    "            , 'bank_card': ', '.join(info['extra']['bank_card']) if info['extra']['bank_card'] else 'No'\n",
    "            , 'latitude': info['latitude']\n",
    "            , 'longitude': info['longitude']\n",
    "            , 'timestamp': info['timestamp']\n",
    "            , 'Unique ID': info['extra']['uid']\n",
    "        }\n",
    "        station_list.append(station_details)\n",
    "    return pd.DataFrame(station_list)\n",
    "\n"
   ]
  },
  {
   "cell_type": "code",
   "execution_count": 11,
   "metadata": {},
   "outputs": [],
   "source": [
    "# Vancouver is the only Canadian city on the citybik.es api:\n",
    "van_network = citybikes_locations(\"Vancouver\")\n",
    "\n",
    "# save the json string to data folder as \"van_network.json\""
   ]
  },
  {
   "cell_type": "code",
   "execution_count": 12,
   "metadata": {},
   "outputs": [],
   "source": [
    "# Run api query for the Vancouver citybikes stations\n",
    "van_stations = city_stations(\"Vancouver\")\n",
    "\n",
    "# save the json data in the data folder as \"van_stations.json\""
   ]
  },
  {
   "cell_type": "markdown",
   "metadata": {},
   "source": [
    "Parse through the response to get the details you want for the bike stations in that city (latitude, longitude, number of bikes). "
   ]
  },
  {
   "cell_type": "code",
   "execution_count": null,
   "metadata": {},
   "outputs": [],
   "source": [
    "#Load the data into the DataFrame  - all information gathered except for \n",
    "df = station_data('Vancouver')\n",
    "df.head(5)"
   ]
  },
  {
   "cell_type": "code",
   "execution_count": null,
   "metadata": {},
   "outputs": [],
   "source": []
  },
  {
   "cell_type": "markdown",
   "metadata": {},
   "source": [
    "Put your parsed results into a DataFrame."
   ]
  },
  {
   "cell_type": "code",
   "execution_count": null,
   "metadata": {},
   "outputs": [],
   "source": []
  }
 ],
 "metadata": {
  "kernelspec": {
   "display_name": "Python 3.10.6 ('base_env')",
   "language": "python",
   "name": "python3"
  },
  "language_info": {
   "codemirror_mode": {
    "name": "ipython",
    "version": 3
   },
   "file_extension": ".py",
   "mimetype": "text/x-python",
   "name": "python",
   "nbconvert_exporter": "python",
   "pygments_lexer": "ipython3",
   "version": "3.10.6"
  },
  "vscode": {
   "interpreter": {
    "hash": "39512f3c2a1741d7f752d45a133d4514127029333ea14bc2f3c6c5e6759b9029"
   }
  }
 },
 "nbformat": 4,
 "nbformat_minor": 4
}
