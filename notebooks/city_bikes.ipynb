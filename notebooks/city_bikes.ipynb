{
 "cells": [
  {
   "cell_type": "markdown",
   "metadata": {},
   "source": [
    "# CityBikes"
   ]
  },
  {
   "cell_type": "markdown",
   "metadata": {},
   "source": [
    "Send a request to CityBikes for the city of your choice. "
   ]
  },
  {
   "cell_type": "code",
   "execution_count": 1,
   "metadata": {},
   "outputs": [],
   "source": [
    "import plotly.express as px\n",
    "import pandas as pd\n",
    "import numpy as np\n",
    "import requests\n",
    "# import json\n",
    "\n",
    "# Define a function to return a list of dictionaries with information about the requested city\n",
    "def citybikes_locations(city):\n",
    "    citybike_networks = requests.get(\"https://api.citybik.es/v2/networks\").json()\n",
    "    list_of_dict = []\n",
    "    for citybike_dict in citybike_networks['networks']:\n",
    "        new_city = citybike_dict['location']['city']\n",
    "        if new_city.lower() == city.lower():\n",
    "            list_of_dict.append(citybike_dict)\n",
    "    return list_of_dict\n",
    "\n",
    "# Define a function to return a list of dictionaries about the city's stations\n",
    "def city_stations(city):\n",
    "    station_dict = citybikes_locations(city)\n",
    "    if not station_dict:\n",
    "        print('Error: No info found for {}'.format(city))\n",
    "        return None\n",
    "    network_address = station_dict[0]['href']\n",
    "    url = \"https://api.citybik.es/{}\".format(network_address)\n",
    "    return requests.get(url).json()['network']['stations']"
   ]
  },
  {
   "cell_type": "code",
   "execution_count": 2,
   "metadata": {},
   "outputs": [],
   "source": [
    "# Vancouver is the only Canadian city on the citybik.es api:\n",
    "van_network = citybikes_locations(\"Vancouver\")\n",
    "\n",
    "# Save the json string to data folder as \"van_network.json\""
   ]
  },
  {
   "cell_type": "code",
   "execution_count": 3,
   "metadata": {},
   "outputs": [],
   "source": [
    "# Run api query for the Vancouver citybikes stations\n",
    "van_stations = city_stations(\"Vancouver\")\n",
    "\n",
    "# Save the json data in the data folder as \"van_stations.json\""
   ]
  },
  {
   "cell_type": "markdown",
   "metadata": {},
   "source": [
    "Parse through the response to get the details you want for the bike stations in that city (latitude, longitude, number of bikes). "
   ]
  },
  {
   "cell_type": "code",
   "execution_count": 13,
   "metadata": {},
   "outputs": [],
   "source": [
    "# Define a function that will return a pd.df about the stations for input city\n",
    "def station_data(city):\n",
    "    station_info = city_stations(city)\n",
    "    station_list = []\n",
    "    for info in station_info:\n",
    "        station_details = {\n",
    "              'Station Name': info['name']\n",
    "            , 'slots': info['extra']['slots']\n",
    "            , 'empty_slots': info['empty_slots']\n",
    "            , 'free_bikes': info['free_bikes']\n",
    "            , 'status': info['extra']['status']\n",
    "            , 'bank_card': ', '.join(info['extra']['bank_card']) if info['extra']['bank_card'] else 'No'\n",
    "            , 'latitude': info['latitude']\n",
    "            , 'longitude': info['longitude']\n",
    "            , 'timestamp': info['timestamp']\n",
    "            , 'Unique ID': info['extra']['uid']\n",
    "        }\n",
    "        station_list.append(station_details)\n",
    "    return pd.DataFrame(station_list)"
   ]
  },
  {
   "cell_type": "markdown",
   "metadata": {},
   "source": [
    "Put your parsed results into a DataFrame."
   ]
  },
  {
   "cell_type": "code",
   "execution_count": 5,
   "metadata": {},
   "outputs": [],
   "source": [
    "# Load the data into the DataFrame  - all information gathered except for \n",
    "df = station_data('Vancouver')"
   ]
  },
  {
   "cell_type": "code",
   "execution_count": 6,
   "metadata": {},
   "outputs": [
    {
     "data": {
      "text/plain": [
       "(241, 10)"
      ]
     },
     "execution_count": 6,
     "metadata": {},
     "output_type": "execute_result"
    }
   ],
   "source": [
    "# Lets check out the size of our new df!\n",
    "df.shape"
   ]
  },
  {
   "cell_type": "code",
   "execution_count": 7,
   "metadata": {},
   "outputs": [
    {
     "data": {
      "text/html": [
       "<div>\n",
       "<style scoped>\n",
       "    .dataframe tbody tr th:only-of-type {\n",
       "        vertical-align: middle;\n",
       "    }\n",
       "\n",
       "    .dataframe tbody tr th {\n",
       "        vertical-align: top;\n",
       "    }\n",
       "\n",
       "    .dataframe thead th {\n",
       "        text-align: right;\n",
       "    }\n",
       "</style>\n",
       "<table border=\"1\" class=\"dataframe\">\n",
       "  <thead>\n",
       "    <tr style=\"text-align: right;\">\n",
       "      <th></th>\n",
       "      <th>Station Name</th>\n",
       "      <th>slots</th>\n",
       "      <th>empty_slots</th>\n",
       "      <th>free_bikes</th>\n",
       "      <th>status</th>\n",
       "      <th>bank_card</th>\n",
       "      <th>latitude</th>\n",
       "      <th>longitude</th>\n",
       "      <th>timestamp</th>\n",
       "      <th>Unique ID</th>\n",
       "    </tr>\n",
       "  </thead>\n",
       "  <tbody>\n",
       "    <tr>\n",
       "      <th>0</th>\n",
       "      <td>0001 10th &amp; Cambie</td>\n",
       "      <td>35</td>\n",
       "      <td>16</td>\n",
       "      <td>19</td>\n",
       "      <td>online</td>\n",
       "      <td>No</td>\n",
       "      <td>49.262487</td>\n",
       "      <td>-123.114397</td>\n",
       "      <td>2022-11-06T07:22:52.004000Z</td>\n",
       "      <td>0001</td>\n",
       "    </tr>\n",
       "    <tr>\n",
       "      <th>1</th>\n",
       "      <td>0004 Yaletown-Roundhouse Station</td>\n",
       "      <td>16</td>\n",
       "      <td>1</td>\n",
       "      <td>15</td>\n",
       "      <td>online</td>\n",
       "      <td>No</td>\n",
       "      <td>49.274566</td>\n",
       "      <td>-123.121817</td>\n",
       "      <td>2022-11-06T07:22:52.006000Z</td>\n",
       "      <td>0004</td>\n",
       "    </tr>\n",
       "    <tr>\n",
       "      <th>2</th>\n",
       "      <td>0005 Dunsmuir &amp; Beatty</td>\n",
       "      <td>26</td>\n",
       "      <td>8</td>\n",
       "      <td>18</td>\n",
       "      <td>online</td>\n",
       "      <td>No</td>\n",
       "      <td>49.279764</td>\n",
       "      <td>-123.110154</td>\n",
       "      <td>2022-11-06T07:22:52.007000Z</td>\n",
       "      <td>0005</td>\n",
       "    </tr>\n",
       "    <tr>\n",
       "      <th>3</th>\n",
       "      <td>0007 12th &amp; Yukon (City Hall)</td>\n",
       "      <td>16</td>\n",
       "      <td>9</td>\n",
       "      <td>7</td>\n",
       "      <td>online</td>\n",
       "      <td>No</td>\n",
       "      <td>49.260599</td>\n",
       "      <td>-123.113504</td>\n",
       "      <td>2022-11-06T07:22:52.008000Z</td>\n",
       "      <td>0007</td>\n",
       "    </tr>\n",
       "    <tr>\n",
       "      <th>4</th>\n",
       "      <td>0008 8th &amp; Ash</td>\n",
       "      <td>16</td>\n",
       "      <td>9</td>\n",
       "      <td>7</td>\n",
       "      <td>online</td>\n",
       "      <td>No</td>\n",
       "      <td>49.264215</td>\n",
       "      <td>-123.117772</td>\n",
       "      <td>2022-11-06T07:22:52.009000Z</td>\n",
       "      <td>0008</td>\n",
       "    </tr>\n",
       "  </tbody>\n",
       "</table>\n",
       "</div>"
      ],
      "text/plain": [
       "                       Station Name  slots  empty_slots  free_bikes  status  \\\n",
       "0                0001 10th & Cambie     35           16          19  online   \n",
       "1  0004 Yaletown-Roundhouse Station     16            1          15  online   \n",
       "2            0005 Dunsmuir & Beatty     26            8          18  online   \n",
       "3     0007 12th & Yukon (City Hall)     16            9           7  online   \n",
       "4                    0008 8th & Ash     16            9           7  online   \n",
       "\n",
       "  bank_card   latitude   longitude                    timestamp Unique ID  \n",
       "0        No  49.262487 -123.114397  2022-11-06T07:22:52.004000Z      0001  \n",
       "1        No  49.274566 -123.121817  2022-11-06T07:22:52.006000Z      0004  \n",
       "2        No  49.279764 -123.110154  2022-11-06T07:22:52.007000Z      0005  \n",
       "3        No  49.260599 -123.113504  2022-11-06T07:22:52.008000Z      0007  \n",
       "4        No  49.264215 -123.117772  2022-11-06T07:22:52.009000Z      0008  "
      ]
     },
     "execution_count": 7,
     "metadata": {},
     "output_type": "execute_result"
    }
   ],
   "source": [
    "# To display the top 5 rows and headers\n",
    "df.head(5)"
   ]
  },
  {
   "cell_type": "code",
   "execution_count": 8,
   "metadata": {},
   "outputs": [
    {
     "data": {
      "text/html": [
       "<div>\n",
       "<style scoped>\n",
       "    .dataframe tbody tr th:only-of-type {\n",
       "        vertical-align: middle;\n",
       "    }\n",
       "\n",
       "    .dataframe tbody tr th {\n",
       "        vertical-align: top;\n",
       "    }\n",
       "\n",
       "    .dataframe thead th {\n",
       "        text-align: right;\n",
       "    }\n",
       "</style>\n",
       "<table border=\"1\" class=\"dataframe\">\n",
       "  <thead>\n",
       "    <tr style=\"text-align: right;\">\n",
       "      <th></th>\n",
       "      <th>Station Name</th>\n",
       "      <th>slots</th>\n",
       "      <th>empty_slots</th>\n",
       "      <th>free_bikes</th>\n",
       "      <th>status</th>\n",
       "      <th>bank_card</th>\n",
       "      <th>latitude</th>\n",
       "      <th>longitude</th>\n",
       "      <th>timestamp</th>\n",
       "      <th>Unique ID</th>\n",
       "    </tr>\n",
       "  </thead>\n",
       "  <tbody>\n",
       "    <tr>\n",
       "      <th>236</th>\n",
       "      <td>0516 Heather &amp; 29th</td>\n",
       "      <td>22</td>\n",
       "      <td>21</td>\n",
       "      <td>1</td>\n",
       "      <td>online</td>\n",
       "      <td>No</td>\n",
       "      <td>49.245535</td>\n",
       "      <td>-123.120496</td>\n",
       "      <td>2022-11-06T07:22:52.164000Z</td>\n",
       "      <td>0516</td>\n",
       "    </tr>\n",
       "    <tr>\n",
       "      <th>237</th>\n",
       "      <td>0041 Cardero &amp; Robson</td>\n",
       "      <td>26</td>\n",
       "      <td>0</td>\n",
       "      <td>26</td>\n",
       "      <td>online</td>\n",
       "      <td>No</td>\n",
       "      <td>49.289255</td>\n",
       "      <td>-123.132677</td>\n",
       "      <td>2022-11-06T07:22:52.025000Z</td>\n",
       "      <td>0041</td>\n",
       "    </tr>\n",
       "    <tr>\n",
       "      <th>238</th>\n",
       "      <td>0352 Commercial &amp; 20th</td>\n",
       "      <td>18</td>\n",
       "      <td>15</td>\n",
       "      <td>3</td>\n",
       "      <td>online</td>\n",
       "      <td>No</td>\n",
       "      <td>49.252656</td>\n",
       "      <td>-123.067965</td>\n",
       "      <td>2022-11-06T07:22:52.152000Z</td>\n",
       "      <td>0352</td>\n",
       "    </tr>\n",
       "    <tr>\n",
       "      <th>239</th>\n",
       "      <td>0196 Hornby &amp; Drake</td>\n",
       "      <td>24</td>\n",
       "      <td>9</td>\n",
       "      <td>15</td>\n",
       "      <td>online</td>\n",
       "      <td>No</td>\n",
       "      <td>49.277527</td>\n",
       "      <td>-123.129464</td>\n",
       "      <td>2022-11-06T07:22:52.105000Z</td>\n",
       "      <td>0196</td>\n",
       "    </tr>\n",
       "    <tr>\n",
       "      <th>240</th>\n",
       "      <td>210 Burrard &amp; 14th</td>\n",
       "      <td>18</td>\n",
       "      <td>10</td>\n",
       "      <td>8</td>\n",
       "      <td>online</td>\n",
       "      <td>No</td>\n",
       "      <td>49.259469</td>\n",
       "      <td>-123.145718</td>\n",
       "      <td>2022-11-06T07:22:52.172000Z</td>\n",
       "      <td>210</td>\n",
       "    </tr>\n",
       "  </tbody>\n",
       "</table>\n",
       "</div>"
      ],
      "text/plain": [
       "               Station Name  slots  empty_slots  free_bikes  status bank_card  \\\n",
       "236     0516 Heather & 29th     22           21           1  online        No   \n",
       "237   0041 Cardero & Robson     26            0          26  online        No   \n",
       "238  0352 Commercial & 20th     18           15           3  online        No   \n",
       "239     0196 Hornby & Drake     24            9          15  online        No   \n",
       "240      210 Burrard & 14th     18           10           8  online        No   \n",
       "\n",
       "      latitude   longitude                    timestamp Unique ID  \n",
       "236  49.245535 -123.120496  2022-11-06T07:22:52.164000Z      0516  \n",
       "237  49.289255 -123.132677  2022-11-06T07:22:52.025000Z      0041  \n",
       "238  49.252656 -123.067965  2022-11-06T07:22:52.152000Z      0352  \n",
       "239  49.277527 -123.129464  2022-11-06T07:22:52.105000Z      0196  \n",
       "240  49.259469 -123.145718  2022-11-06T07:22:52.172000Z       210  "
      ]
     },
     "execution_count": 8,
     "metadata": {},
     "output_type": "execute_result"
    }
   ],
   "source": [
    "# To display the last 5 rows\n",
    "df.tail(5)"
   ]
  },
  {
   "cell_type": "code",
   "execution_count": 9,
   "metadata": {},
   "outputs": [
    {
     "data": {
      "text/plain": [
       "Station Name     object\n",
       "slots             int64\n",
       "empty_slots       int64\n",
       "free_bikes        int64\n",
       "status           object\n",
       "bank_card        object\n",
       "latitude        float64\n",
       "longitude       float64\n",
       "timestamp        object\n",
       "Unique ID        object\n",
       "dtype: object"
      ]
     },
     "execution_count": 9,
     "metadata": {},
     "output_type": "execute_result"
    }
   ],
   "source": [
    "# Checking the types of data\n",
    "df.dtypes"
   ]
  },
  {
   "cell_type": "code",
   "execution_count": 10,
   "metadata": {},
   "outputs": [
    {
     "name": "stdout",
     "output_type": "stream",
     "text": [
      "<class 'pandas.core.frame.DataFrame'>\n",
      "RangeIndex: 241 entries, 0 to 240\n",
      "Data columns (total 10 columns):\n",
      " #   Column        Non-Null Count  Dtype  \n",
      "---  ------        --------------  -----  \n",
      " 0   Station Name  241 non-null    object \n",
      " 1   slots         241 non-null    int64  \n",
      " 2   empty_slots   241 non-null    int64  \n",
      " 3   free_bikes    241 non-null    int64  \n",
      " 4   status        241 non-null    object \n",
      " 5   bank_card     241 non-null    object \n",
      " 6   latitude      241 non-null    float64\n",
      " 7   longitude     241 non-null    float64\n",
      " 8   timestamp     241 non-null    object \n",
      " 9   Unique ID     241 non-null    object \n",
      "dtypes: float64(2), int64(3), object(5)\n",
      "memory usage: 19.0+ KB\n"
     ]
    }
   ],
   "source": [
    "# Or also/alternatively:\n",
    "df.info()"
   ]
  },
  {
   "cell_type": "code",
   "execution_count": 11,
   "metadata": {},
   "outputs": [
    {
     "data": {
      "text/html": [
       "<div>\n",
       "<style scoped>\n",
       "    .dataframe tbody tr th:only-of-type {\n",
       "        vertical-align: middle;\n",
       "    }\n",
       "\n",
       "    .dataframe tbody tr th {\n",
       "        vertical-align: top;\n",
       "    }\n",
       "\n",
       "    .dataframe thead th {\n",
       "        text-align: right;\n",
       "    }\n",
       "</style>\n",
       "<table border=\"1\" class=\"dataframe\">\n",
       "  <thead>\n",
       "    <tr style=\"text-align: right;\">\n",
       "      <th></th>\n",
       "      <th>Station Name</th>\n",
       "      <th>slots</th>\n",
       "      <th>empty_slots</th>\n",
       "      <th>free_bikes</th>\n",
       "      <th>status</th>\n",
       "      <th>bank_card</th>\n",
       "      <th>latitude</th>\n",
       "      <th>longitude</th>\n",
       "      <th>timestamp</th>\n",
       "      <th>Unique ID</th>\n",
       "    </tr>\n",
       "  </thead>\n",
       "  <tbody>\n",
       "    <tr>\n",
       "      <th>0</th>\n",
       "      <td>0001 10th &amp; Cambie</td>\n",
       "      <td>35</td>\n",
       "      <td>16</td>\n",
       "      <td>19</td>\n",
       "      <td>online</td>\n",
       "      <td>No</td>\n",
       "      <td>49.262487</td>\n",
       "      <td>-123.114397</td>\n",
       "      <td>2022-11-06T07:22:52.004000Z</td>\n",
       "      <td>0001</td>\n",
       "    </tr>\n",
       "    <tr>\n",
       "      <th>1</th>\n",
       "      <td>0004 Yaletown-Roundhouse Station</td>\n",
       "      <td>16</td>\n",
       "      <td>1</td>\n",
       "      <td>15</td>\n",
       "      <td>online</td>\n",
       "      <td>No</td>\n",
       "      <td>49.274566</td>\n",
       "      <td>-123.121817</td>\n",
       "      <td>2022-11-06T07:22:52.006000Z</td>\n",
       "      <td>0004</td>\n",
       "    </tr>\n",
       "    <tr>\n",
       "      <th>2</th>\n",
       "      <td>0005 Dunsmuir &amp; Beatty</td>\n",
       "      <td>26</td>\n",
       "      <td>8</td>\n",
       "      <td>18</td>\n",
       "      <td>online</td>\n",
       "      <td>No</td>\n",
       "      <td>49.279764</td>\n",
       "      <td>-123.110154</td>\n",
       "      <td>2022-11-06T07:22:52.007000Z</td>\n",
       "      <td>0005</td>\n",
       "    </tr>\n",
       "    <tr>\n",
       "      <th>3</th>\n",
       "      <td>0007 12th &amp; Yukon (City Hall)</td>\n",
       "      <td>16</td>\n",
       "      <td>9</td>\n",
       "      <td>7</td>\n",
       "      <td>online</td>\n",
       "      <td>No</td>\n",
       "      <td>49.260599</td>\n",
       "      <td>-123.113504</td>\n",
       "      <td>2022-11-06T07:22:52.008000Z</td>\n",
       "      <td>0007</td>\n",
       "    </tr>\n",
       "    <tr>\n",
       "      <th>4</th>\n",
       "      <td>0008 8th &amp; Ash</td>\n",
       "      <td>16</td>\n",
       "      <td>9</td>\n",
       "      <td>7</td>\n",
       "      <td>online</td>\n",
       "      <td>No</td>\n",
       "      <td>49.264215</td>\n",
       "      <td>-123.117772</td>\n",
       "      <td>2022-11-06T07:22:52.009000Z</td>\n",
       "      <td>0008</td>\n",
       "    </tr>\n",
       "  </tbody>\n",
       "</table>\n",
       "</div>"
      ],
      "text/plain": [
       "                       Station Name  slots  empty_slots  free_bikes  status  \\\n",
       "0                0001 10th & Cambie     35           16          19  online   \n",
       "1  0004 Yaletown-Roundhouse Station     16            1          15  online   \n",
       "2            0005 Dunsmuir & Beatty     26            8          18  online   \n",
       "3     0007 12th & Yukon (City Hall)     16            9           7  online   \n",
       "4                    0008 8th & Ash     16            9           7  online   \n",
       "\n",
       "  bank_card   latitude   longitude                    timestamp Unique ID  \n",
       "0        No  49.262487 -123.114397  2022-11-06T07:22:52.004000Z      0001  \n",
       "1        No  49.274566 -123.121817  2022-11-06T07:22:52.006000Z      0004  \n",
       "2        No  49.279764 -123.110154  2022-11-06T07:22:52.007000Z      0005  \n",
       "3        No  49.260599 -123.113504  2022-11-06T07:22:52.008000Z      0007  \n",
       "4        No  49.264215 -123.117772  2022-11-06T07:22:52.009000Z      0008  "
      ]
     },
     "execution_count": 11,
     "metadata": {},
     "output_type": "execute_result"
    }
   ],
   "source": [
    "# Save a back up just incase we come to regret some of our changes:\n",
    "df_backup = df.copy()\n",
    "\n",
    "# Confirm the save:\n",
    "df_backup.head(5)"
   ]
  },
  {
   "cell_type": "code",
   "execution_count": 12,
   "metadata": {},
   "outputs": [],
   "source": [
    "df.to_csv('data/df_citybikes.csv')"
   ]
  },
  {
   "cell_type": "code",
   "execution_count": null,
   "metadata": {},
   "outputs": [],
   "source": []
  }
 ],
 "metadata": {
  "kernelspec": {
   "display_name": "Python 3 (ipykernel)",
   "language": "python",
   "name": "python3"
  },
  "language_info": {
   "codemirror_mode": {
    "name": "ipython",
    "version": 3
   },
   "file_extension": ".py",
   "mimetype": "text/x-python",
   "name": "python",
   "nbconvert_exporter": "python",
   "pygments_lexer": "ipython3",
   "version": "3.10.6"
  },
  "vscode": {
   "interpreter": {
    "hash": "39512f3c2a1741d7f752d45a133d4514127029333ea14bc2f3c6c5e6759b9029"
   }
  }
 },
 "nbformat": 4,
 "nbformat_minor": 4
}
